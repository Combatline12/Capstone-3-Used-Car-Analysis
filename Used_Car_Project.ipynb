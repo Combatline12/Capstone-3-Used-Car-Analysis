{
  "nbformat": 4,
  "nbformat_minor": 0,
  "metadata": {
    "colab": {
      "name": "Used Car Project",
      "provenance": [],
      "collapsed_sections": [],
      "authorship_tag": "ABX9TyNOnfiRad/LoPciy2e8WIen",
      "include_colab_link": true
    },
    "kernelspec": {
      "name": "python3",
      "display_name": "Python 3"
    },
    "language_info": {
      "name": "python"
    }
  },
  "cells": [
    {
      "cell_type": "markdown",
      "metadata": {
        "id": "view-in-github",
        "colab_type": "text"
      },
      "source": [
        "<a href=\"https://colab.research.google.com/github/Combatline12/Capstone-3-Used-Car-Analysis/blob/main/Used_Car_Project.ipynb\" target=\"_parent\"><img src=\"https://colab.research.google.com/assets/colab-badge.svg\" alt=\"Open In Colab\"/></a>"
      ]
    },
    {
      "cell_type": "markdown",
      "source": [
        "# Used Car Analysis"
      ],
      "metadata": {
        "id": "Xx9UhM94bk-C"
      }
    },
    {
      "cell_type": "markdown",
      "source": [
        "###Information regarding dataset\n",
        "For this analysis I collected data from: https://www.kaggle.com/datasets/shubham1kumar/usedcar-data. This dataset is made up of 7,907 observations and 17 fields. The data was collected from a consulting firm located in India and lists each vehicle and other various factors. \n",
        "\n",
        "The fields for this dataset include:\n",
        "\n",
        "\n",
        "1. **Sales_ID** (Sales ID)\n",
        "2. **name** (Name of the used car)\n",
        "3. **year** (Year of the car purchase)\n",
        "4. **selling_price** (Current selling price for used car)\n",
        "5. **km_driven** (Total km driven)\n",
        "6. **Region** (Region where it is used)\n",
        "7. **State or Province** (State or Province where it is used)\n",
        "8. **City** (City where it is used)\n",
        "9. **fuel** (Fuel type)\n",
        "10. **seller_type** (Who is selling the car)\n",
        "11. **transmission** (Transmission type of the car)\n",
        "12. **owner** (Owner type)\n",
        "13. **mileage** (Mileage of the car)\n",
        "14. **engine** (engine power)\n",
        "15. **max_power** (max power)\n",
        "16. **seats** (Number of seats)\n",
        "17. **sold** (used car sold or not\n",
        "\n"
      ],
      "metadata": {
        "id": "paFaGaYTcF9R"
      }
    },
    {
      "cell_type": "markdown",
      "source": [
        "###Research Questions\n",
        "For my analysis I have developed two questions:\n",
        "> 1. Is there a correlation between the year the vehicle was made and the distance(miles) driven?\n",
        "\n",
        "\n",
        "> 2. Is there a significant difference in the selling price of a vehicle based on if the seller is a dealer or an individual?\n",
        "\n",
        "\n"
      ],
      "metadata": {
        "id": "kWHa9WovfO1A"
      }
    },
    {
      "cell_type": "markdown",
      "source": [
        "##Importing the Data and Tools"
      ],
      "metadata": {
        "id": "EzmI4wCnmqaE"
      }
    },
    {
      "cell_type": "code",
      "execution_count": null,
      "metadata": {
        "colab": {
          "base_uri": "https://localhost:8080/"
        },
        "id": "XVEqbO0YHP0t",
        "outputId": "56639a1b-f9bf-46e8-b7c4-58134940b069"
      },
      "outputs": [
        {
          "output_type": "stream",
          "name": "stdout",
          "text": [
            "Mounted at /content/gdrive\n"
          ]
        }
      ],
      "source": [
        "# Connecting to Google Drive\n",
        "from google.colab import drive\n",
        "drive.mount('/content/gdrive')"
      ]
    },
    {
      "cell_type": "code",
      "source": [
        "# Importing tools for Analysis\n",
        "import pandas as pd\n",
        "import matplotlib.pyplot as plt\n",
        "from sqlalchemy import create_engine\n",
        "from scipy.stats.stats import ttest_ind\n",
        "from scipy import stats\n",
        "import seaborn as sns\n",
        "import math\n",
        "sns.set()\n",
        "\n",
        "# Suppressing warnings\n",
        "import warnings\n",
        "warnings.filterwarnings('ignore')"
      ],
      "metadata": {
        "id": "h7Z8-JArH50t"
      },
      "execution_count": null,
      "outputs": []
    },
    {
      "cell_type": "markdown",
      "source": [
        "## Exploring Dataframe"
      ],
      "metadata": {
        "id": "6VSxJ1GHorym"
      }
    },
    {
      "cell_type": "code",
      "source": [
        "# Importing and creating dataframe\n",
        "Car_df = pd.read_csv('/content/gdrive/My Drive/Colab Datasets/Project.csv')"
      ],
      "metadata": {
        "id": "zAqzktl3IfiX"
      },
      "execution_count": null,
      "outputs": []
    },
    {
      "cell_type": "code",
      "source": [
        "# Size of dataframe\n",
        "Car_df.shape"
      ],
      "metadata": {
        "colab": {
          "base_uri": "https://localhost:8080/"
        },
        "id": "dKRbVtdKkWWO",
        "outputId": "dec50643-1544-4019-88ca-1e0ff671fdd3"
      },
      "execution_count": null,
      "outputs": [
        {
          "output_type": "execute_result",
          "data": {
            "text/plain": [
              "(7906, 18)"
            ]
          },
          "metadata": {},
          "execution_count": 4
        }
      ]
    },
    {
      "cell_type": "code",
      "source": [
        "# Preliminary information about data\n",
        "Car_df.info()"
      ],
      "metadata": {
        "colab": {
          "base_uri": "https://localhost:8080/"
        },
        "id": "zoatMb21qlJg",
        "outputId": "15fa2610-b4bd-4dfb-bd06-a94a8f2caafa"
      },
      "execution_count": null,
      "outputs": [
        {
          "output_type": "stream",
          "name": "stdout",
          "text": [
            "<class 'pandas.core.frame.DataFrame'>\n",
            "RangeIndex: 7906 entries, 0 to 7905\n",
            "Data columns (total 18 columns):\n",
            " #   Column             Non-Null Count  Dtype  \n",
            "---  ------             --------------  -----  \n",
            " 0   Sales_ID           7906 non-null   int64  \n",
            " 1   name               7906 non-null   object \n",
            " 2   year               7906 non-null   int64  \n",
            " 3   selling_price      7906 non-null   int64  \n",
            " 4   km_driven          7906 non-null   int64  \n",
            " 5   Region             7906 non-null   object \n",
            " 6   State or Province  7906 non-null   object \n",
            " 7   City               7906 non-null   object \n",
            " 8   fuel               7906 non-null   object \n",
            " 9   seller_type        7906 non-null   object \n",
            " 10  transmission       7906 non-null   object \n",
            " 11  owner              7906 non-null   object \n",
            " 12  mileage            7906 non-null   float64\n",
            " 13  engine             7906 non-null   int64  \n",
            " 14  max_power          7906 non-null   float64\n",
            " 15  torque             7906 non-null   object \n",
            " 16  seats              7906 non-null   int64  \n",
            " 17  sold               7906 non-null   object \n",
            "dtypes: float64(2), int64(6), object(10)\n",
            "memory usage: 1.1+ MB\n"
          ]
        }
      ]
    },
    {
      "cell_type": "markdown",
      "source": [
        "It appears there are no null values"
      ],
      "metadata": {
        "id": "awANonrYrBfQ"
      }
    },
    {
      "cell_type": "code",
      "source": [
        "# Checking for duplicate rows\n",
        "Car_df.duplicated().sum()"
      ],
      "metadata": {
        "colab": {
          "base_uri": "https://localhost:8080/"
        },
        "id": "5VXb-Cbfq4Hu",
        "outputId": "372c8bdd-e6fe-4497-e5fb-f029e0462ec3"
      },
      "execution_count": null,
      "outputs": [
        {
          "output_type": "execute_result",
          "data": {
            "text/plain": [
              "0"
            ]
          },
          "metadata": {},
          "execution_count": 6
        }
      ]
    },
    {
      "cell_type": "code",
      "source": [
        "# Displaying first 5 rows\n",
        "Car_df.head()"
      ],
      "metadata": {
        "colab": {
          "base_uri": "https://localhost:8080/",
          "height": 424
        },
        "id": "4n8eEEXUrpRY",
        "outputId": "d2e14e5e-fd44-4062-a855-42e2048222fb"
      },
      "execution_count": null,
      "outputs": [
        {
          "output_type": "execute_result",
          "data": {
            "text/plain": [
              "   Sales_ID     name  year  selling_price  km_driven   Region  \\\n",
              "0         1   Maruti  2014         450000     145500     East   \n",
              "1         2    Skoda  2014         370000     120000     East   \n",
              "2         3    Honda  2006         158000     140000  Central   \n",
              "3         4  Hyundai  2010         225000     127000  Central   \n",
              "4         5   Maruti  2007         130000     120000     East   \n",
              "\n",
              "      State or Province           City    fuel seller_type transmission  \\\n",
              "0  District of Columbia     Washington  Diesel  Individual       Manual   \n",
              "1              New York  New York City  Diesel  Individual       Manual   \n",
              "2              Illinois        Chicago  Petrol  Individual       Manual   \n",
              "3              Illinois        Chicago  Diesel  Individual       Manual   \n",
              "4              New York  New York City  Petrol  Individual       Manual   \n",
              "\n",
              "          owner  mileage  engine  max_power                    torque  seats  \\\n",
              "0   First_Owner    23.40    1248      74.00            190Nm@ 2000rpm      5   \n",
              "1  Second_Owner    21.14    1498     103.52       250Nm@ 1500-2500rpm      5   \n",
              "2   Third_Owner    17.70    1497      78.00     12.7@ 2,700(kgm@ rpm)      5   \n",
              "3   First_Owner    23.00    1396      90.00  22.4 kgm at 1750-2750rpm      5   \n",
              "4   First_Owner    16.10    1298      88.20     11.5@ 4,500(kgm@ rpm)      5   \n",
              "\n",
              "  sold  \n",
              "0    Y  \n",
              "1    Y  \n",
              "2    Y  \n",
              "3    Y  \n",
              "4    Y  "
            ],
            "text/html": [
              "\n",
              "  <div id=\"df-2dde8557-8a15-4f9e-9405-4428dafe0522\">\n",
              "    <div class=\"colab-df-container\">\n",
              "      <div>\n",
              "<style scoped>\n",
              "    .dataframe tbody tr th:only-of-type {\n",
              "        vertical-align: middle;\n",
              "    }\n",
              "\n",
              "    .dataframe tbody tr th {\n",
              "        vertical-align: top;\n",
              "    }\n",
              "\n",
              "    .dataframe thead th {\n",
              "        text-align: right;\n",
              "    }\n",
              "</style>\n",
              "<table border=\"1\" class=\"dataframe\">\n",
              "  <thead>\n",
              "    <tr style=\"text-align: right;\">\n",
              "      <th></th>\n",
              "      <th>Sales_ID</th>\n",
              "      <th>name</th>\n",
              "      <th>year</th>\n",
              "      <th>selling_price</th>\n",
              "      <th>km_driven</th>\n",
              "      <th>Region</th>\n",
              "      <th>State or Province</th>\n",
              "      <th>City</th>\n",
              "      <th>fuel</th>\n",
              "      <th>seller_type</th>\n",
              "      <th>transmission</th>\n",
              "      <th>owner</th>\n",
              "      <th>mileage</th>\n",
              "      <th>engine</th>\n",
              "      <th>max_power</th>\n",
              "      <th>torque</th>\n",
              "      <th>seats</th>\n",
              "      <th>sold</th>\n",
              "    </tr>\n",
              "  </thead>\n",
              "  <tbody>\n",
              "    <tr>\n",
              "      <th>0</th>\n",
              "      <td>1</td>\n",
              "      <td>Maruti</td>\n",
              "      <td>2014</td>\n",
              "      <td>450000</td>\n",
              "      <td>145500</td>\n",
              "      <td>East</td>\n",
              "      <td>District of Columbia</td>\n",
              "      <td>Washington</td>\n",
              "      <td>Diesel</td>\n",
              "      <td>Individual</td>\n",
              "      <td>Manual</td>\n",
              "      <td>First_Owner</td>\n",
              "      <td>23.40</td>\n",
              "      <td>1248</td>\n",
              "      <td>74.00</td>\n",
              "      <td>190Nm@ 2000rpm</td>\n",
              "      <td>5</td>\n",
              "      <td>Y</td>\n",
              "    </tr>\n",
              "    <tr>\n",
              "      <th>1</th>\n",
              "      <td>2</td>\n",
              "      <td>Skoda</td>\n",
              "      <td>2014</td>\n",
              "      <td>370000</td>\n",
              "      <td>120000</td>\n",
              "      <td>East</td>\n",
              "      <td>New York</td>\n",
              "      <td>New York City</td>\n",
              "      <td>Diesel</td>\n",
              "      <td>Individual</td>\n",
              "      <td>Manual</td>\n",
              "      <td>Second_Owner</td>\n",
              "      <td>21.14</td>\n",
              "      <td>1498</td>\n",
              "      <td>103.52</td>\n",
              "      <td>250Nm@ 1500-2500rpm</td>\n",
              "      <td>5</td>\n",
              "      <td>Y</td>\n",
              "    </tr>\n",
              "    <tr>\n",
              "      <th>2</th>\n",
              "      <td>3</td>\n",
              "      <td>Honda</td>\n",
              "      <td>2006</td>\n",
              "      <td>158000</td>\n",
              "      <td>140000</td>\n",
              "      <td>Central</td>\n",
              "      <td>Illinois</td>\n",
              "      <td>Chicago</td>\n",
              "      <td>Petrol</td>\n",
              "      <td>Individual</td>\n",
              "      <td>Manual</td>\n",
              "      <td>Third_Owner</td>\n",
              "      <td>17.70</td>\n",
              "      <td>1497</td>\n",
              "      <td>78.00</td>\n",
              "      <td>12.7@ 2,700(kgm@ rpm)</td>\n",
              "      <td>5</td>\n",
              "      <td>Y</td>\n",
              "    </tr>\n",
              "    <tr>\n",
              "      <th>3</th>\n",
              "      <td>4</td>\n",
              "      <td>Hyundai</td>\n",
              "      <td>2010</td>\n",
              "      <td>225000</td>\n",
              "      <td>127000</td>\n",
              "      <td>Central</td>\n",
              "      <td>Illinois</td>\n",
              "      <td>Chicago</td>\n",
              "      <td>Diesel</td>\n",
              "      <td>Individual</td>\n",
              "      <td>Manual</td>\n",
              "      <td>First_Owner</td>\n",
              "      <td>23.00</td>\n",
              "      <td>1396</td>\n",
              "      <td>90.00</td>\n",
              "      <td>22.4 kgm at 1750-2750rpm</td>\n",
              "      <td>5</td>\n",
              "      <td>Y</td>\n",
              "    </tr>\n",
              "    <tr>\n",
              "      <th>4</th>\n",
              "      <td>5</td>\n",
              "      <td>Maruti</td>\n",
              "      <td>2007</td>\n",
              "      <td>130000</td>\n",
              "      <td>120000</td>\n",
              "      <td>East</td>\n",
              "      <td>New York</td>\n",
              "      <td>New York City</td>\n",
              "      <td>Petrol</td>\n",
              "      <td>Individual</td>\n",
              "      <td>Manual</td>\n",
              "      <td>First_Owner</td>\n",
              "      <td>16.10</td>\n",
              "      <td>1298</td>\n",
              "      <td>88.20</td>\n",
              "      <td>11.5@ 4,500(kgm@ rpm)</td>\n",
              "      <td>5</td>\n",
              "      <td>Y</td>\n",
              "    </tr>\n",
              "  </tbody>\n",
              "</table>\n",
              "</div>\n",
              "      <button class=\"colab-df-convert\" onclick=\"convertToInteractive('df-2dde8557-8a15-4f9e-9405-4428dafe0522')\"\n",
              "              title=\"Convert this dataframe to an interactive table.\"\n",
              "              style=\"display:none;\">\n",
              "        \n",
              "  <svg xmlns=\"http://www.w3.org/2000/svg\" height=\"24px\"viewBox=\"0 0 24 24\"\n",
              "       width=\"24px\">\n",
              "    <path d=\"M0 0h24v24H0V0z\" fill=\"none\"/>\n",
              "    <path d=\"M18.56 5.44l.94 2.06.94-2.06 2.06-.94-2.06-.94-.94-2.06-.94 2.06-2.06.94zm-11 1L8.5 8.5l.94-2.06 2.06-.94-2.06-.94L8.5 2.5l-.94 2.06-2.06.94zm10 10l.94 2.06.94-2.06 2.06-.94-2.06-.94-.94-2.06-.94 2.06-2.06.94z\"/><path d=\"M17.41 7.96l-1.37-1.37c-.4-.4-.92-.59-1.43-.59-.52 0-1.04.2-1.43.59L10.3 9.45l-7.72 7.72c-.78.78-.78 2.05 0 2.83L4 21.41c.39.39.9.59 1.41.59.51 0 1.02-.2 1.41-.59l7.78-7.78 2.81-2.81c.8-.78.8-2.07 0-2.86zM5.41 20L4 18.59l7.72-7.72 1.47 1.35L5.41 20z\"/>\n",
              "  </svg>\n",
              "      </button>\n",
              "      \n",
              "  <style>\n",
              "    .colab-df-container {\n",
              "      display:flex;\n",
              "      flex-wrap:wrap;\n",
              "      gap: 12px;\n",
              "    }\n",
              "\n",
              "    .colab-df-convert {\n",
              "      background-color: #E8F0FE;\n",
              "      border: none;\n",
              "      border-radius: 50%;\n",
              "      cursor: pointer;\n",
              "      display: none;\n",
              "      fill: #1967D2;\n",
              "      height: 32px;\n",
              "      padding: 0 0 0 0;\n",
              "      width: 32px;\n",
              "    }\n",
              "\n",
              "    .colab-df-convert:hover {\n",
              "      background-color: #E2EBFA;\n",
              "      box-shadow: 0px 1px 2px rgba(60, 64, 67, 0.3), 0px 1px 3px 1px rgba(60, 64, 67, 0.15);\n",
              "      fill: #174EA6;\n",
              "    }\n",
              "\n",
              "    [theme=dark] .colab-df-convert {\n",
              "      background-color: #3B4455;\n",
              "      fill: #D2E3FC;\n",
              "    }\n",
              "\n",
              "    [theme=dark] .colab-df-convert:hover {\n",
              "      background-color: #434B5C;\n",
              "      box-shadow: 0px 1px 3px 1px rgba(0, 0, 0, 0.15);\n",
              "      filter: drop-shadow(0px 1px 2px rgba(0, 0, 0, 0.3));\n",
              "      fill: #FFFFFF;\n",
              "    }\n",
              "  </style>\n",
              "\n",
              "      <script>\n",
              "        const buttonEl =\n",
              "          document.querySelector('#df-2dde8557-8a15-4f9e-9405-4428dafe0522 button.colab-df-convert');\n",
              "        buttonEl.style.display =\n",
              "          google.colab.kernel.accessAllowed ? 'block' : 'none';\n",
              "\n",
              "        async function convertToInteractive(key) {\n",
              "          const element = document.querySelector('#df-2dde8557-8a15-4f9e-9405-4428dafe0522');\n",
              "          const dataTable =\n",
              "            await google.colab.kernel.invokeFunction('convertToInteractive',\n",
              "                                                     [key], {});\n",
              "          if (!dataTable) return;\n",
              "\n",
              "          const docLinkHtml = 'Like what you see? Visit the ' +\n",
              "            '<a target=\"_blank\" href=https://colab.research.google.com/notebooks/data_table.ipynb>data table notebook</a>'\n",
              "            + ' to learn more about interactive tables.';\n",
              "          element.innerHTML = '';\n",
              "          dataTable['output_type'] = 'display_data';\n",
              "          await google.colab.output.renderOutput(dataTable, element);\n",
              "          const docLink = document.createElement('div');\n",
              "          docLink.innerHTML = docLinkHtml;\n",
              "          element.appendChild(docLink);\n",
              "        }\n",
              "      </script>\n",
              "    </div>\n",
              "  </div>\n",
              "  "
            ]
          },
          "metadata": {},
          "execution_count": 7
        }
      ]
    },
    {
      "cell_type": "markdown",
      "source": [
        "##Data Wrangling"
      ],
      "metadata": {
        "id": "AZZa1HSpt94Q"
      }
    },
    {
      "cell_type": "code",
      "source": [
        "#Converting distance driven to miles and selling price to USD\n",
        "Car_df = Car_df.assign(miles_driven = (0.62 * Car_df.km_driven))\n",
        "Car_df = Car_df.assign(Price = (0.013 * Car_df.selling_price))\n",
        "Car_df.head()"
      ],
      "metadata": {
        "colab": {
          "base_uri": "https://localhost:8080/",
          "height": 444
        },
        "id": "GMmmtJZeuYsk",
        "outputId": "e45481df-0bf6-4daf-e2f7-128ff3169f2b"
      },
      "execution_count": null,
      "outputs": [
        {
          "output_type": "execute_result",
          "data": {
            "text/plain": [
              "   Sales_ID     name  year  selling_price  km_driven   Region  \\\n",
              "0         1   Maruti  2014         450000     145500     East   \n",
              "1         2    Skoda  2014         370000     120000     East   \n",
              "2         3    Honda  2006         158000     140000  Central   \n",
              "3         4  Hyundai  2010         225000     127000  Central   \n",
              "4         5   Maruti  2007         130000     120000     East   \n",
              "\n",
              "      State or Province           City    fuel seller_type transmission  \\\n",
              "0  District of Columbia     Washington  Diesel  Individual       Manual   \n",
              "1              New York  New York City  Diesel  Individual       Manual   \n",
              "2              Illinois        Chicago  Petrol  Individual       Manual   \n",
              "3              Illinois        Chicago  Diesel  Individual       Manual   \n",
              "4              New York  New York City  Petrol  Individual       Manual   \n",
              "\n",
              "          owner  mileage  engine  max_power                    torque  seats  \\\n",
              "0   First_Owner    23.40    1248      74.00            190Nm@ 2000rpm      5   \n",
              "1  Second_Owner    21.14    1498     103.52       250Nm@ 1500-2500rpm      5   \n",
              "2   Third_Owner    17.70    1497      78.00     12.7@ 2,700(kgm@ rpm)      5   \n",
              "3   First_Owner    23.00    1396      90.00  22.4 kgm at 1750-2750rpm      5   \n",
              "4   First_Owner    16.10    1298      88.20     11.5@ 4,500(kgm@ rpm)      5   \n",
              "\n",
              "  sold  miles_driven   Price  \n",
              "0    Y       90210.0  5850.0  \n",
              "1    Y       74400.0  4810.0  \n",
              "2    Y       86800.0  2054.0  \n",
              "3    Y       78740.0  2925.0  \n",
              "4    Y       74400.0  1690.0  "
            ],
            "text/html": [
              "\n",
              "  <div id=\"df-022e2393-ca0b-4839-87fb-cbfb81024ae4\">\n",
              "    <div class=\"colab-df-container\">\n",
              "      <div>\n",
              "<style scoped>\n",
              "    .dataframe tbody tr th:only-of-type {\n",
              "        vertical-align: middle;\n",
              "    }\n",
              "\n",
              "    .dataframe tbody tr th {\n",
              "        vertical-align: top;\n",
              "    }\n",
              "\n",
              "    .dataframe thead th {\n",
              "        text-align: right;\n",
              "    }\n",
              "</style>\n",
              "<table border=\"1\" class=\"dataframe\">\n",
              "  <thead>\n",
              "    <tr style=\"text-align: right;\">\n",
              "      <th></th>\n",
              "      <th>Sales_ID</th>\n",
              "      <th>name</th>\n",
              "      <th>year</th>\n",
              "      <th>selling_price</th>\n",
              "      <th>km_driven</th>\n",
              "      <th>Region</th>\n",
              "      <th>State or Province</th>\n",
              "      <th>City</th>\n",
              "      <th>fuel</th>\n",
              "      <th>seller_type</th>\n",
              "      <th>transmission</th>\n",
              "      <th>owner</th>\n",
              "      <th>mileage</th>\n",
              "      <th>engine</th>\n",
              "      <th>max_power</th>\n",
              "      <th>torque</th>\n",
              "      <th>seats</th>\n",
              "      <th>sold</th>\n",
              "      <th>miles_driven</th>\n",
              "      <th>Price</th>\n",
              "    </tr>\n",
              "  </thead>\n",
              "  <tbody>\n",
              "    <tr>\n",
              "      <th>0</th>\n",
              "      <td>1</td>\n",
              "      <td>Maruti</td>\n",
              "      <td>2014</td>\n",
              "      <td>450000</td>\n",
              "      <td>145500</td>\n",
              "      <td>East</td>\n",
              "      <td>District of Columbia</td>\n",
              "      <td>Washington</td>\n",
              "      <td>Diesel</td>\n",
              "      <td>Individual</td>\n",
              "      <td>Manual</td>\n",
              "      <td>First_Owner</td>\n",
              "      <td>23.40</td>\n",
              "      <td>1248</td>\n",
              "      <td>74.00</td>\n",
              "      <td>190Nm@ 2000rpm</td>\n",
              "      <td>5</td>\n",
              "      <td>Y</td>\n",
              "      <td>90210.0</td>\n",
              "      <td>5850.0</td>\n",
              "    </tr>\n",
              "    <tr>\n",
              "      <th>1</th>\n",
              "      <td>2</td>\n",
              "      <td>Skoda</td>\n",
              "      <td>2014</td>\n",
              "      <td>370000</td>\n",
              "      <td>120000</td>\n",
              "      <td>East</td>\n",
              "      <td>New York</td>\n",
              "      <td>New York City</td>\n",
              "      <td>Diesel</td>\n",
              "      <td>Individual</td>\n",
              "      <td>Manual</td>\n",
              "      <td>Second_Owner</td>\n",
              "      <td>21.14</td>\n",
              "      <td>1498</td>\n",
              "      <td>103.52</td>\n",
              "      <td>250Nm@ 1500-2500rpm</td>\n",
              "      <td>5</td>\n",
              "      <td>Y</td>\n",
              "      <td>74400.0</td>\n",
              "      <td>4810.0</td>\n",
              "    </tr>\n",
              "    <tr>\n",
              "      <th>2</th>\n",
              "      <td>3</td>\n",
              "      <td>Honda</td>\n",
              "      <td>2006</td>\n",
              "      <td>158000</td>\n",
              "      <td>140000</td>\n",
              "      <td>Central</td>\n",
              "      <td>Illinois</td>\n",
              "      <td>Chicago</td>\n",
              "      <td>Petrol</td>\n",
              "      <td>Individual</td>\n",
              "      <td>Manual</td>\n",
              "      <td>Third_Owner</td>\n",
              "      <td>17.70</td>\n",
              "      <td>1497</td>\n",
              "      <td>78.00</td>\n",
              "      <td>12.7@ 2,700(kgm@ rpm)</td>\n",
              "      <td>5</td>\n",
              "      <td>Y</td>\n",
              "      <td>86800.0</td>\n",
              "      <td>2054.0</td>\n",
              "    </tr>\n",
              "    <tr>\n",
              "      <th>3</th>\n",
              "      <td>4</td>\n",
              "      <td>Hyundai</td>\n",
              "      <td>2010</td>\n",
              "      <td>225000</td>\n",
              "      <td>127000</td>\n",
              "      <td>Central</td>\n",
              "      <td>Illinois</td>\n",
              "      <td>Chicago</td>\n",
              "      <td>Diesel</td>\n",
              "      <td>Individual</td>\n",
              "      <td>Manual</td>\n",
              "      <td>First_Owner</td>\n",
              "      <td>23.00</td>\n",
              "      <td>1396</td>\n",
              "      <td>90.00</td>\n",
              "      <td>22.4 kgm at 1750-2750rpm</td>\n",
              "      <td>5</td>\n",
              "      <td>Y</td>\n",
              "      <td>78740.0</td>\n",
              "      <td>2925.0</td>\n",
              "    </tr>\n",
              "    <tr>\n",
              "      <th>4</th>\n",
              "      <td>5</td>\n",
              "      <td>Maruti</td>\n",
              "      <td>2007</td>\n",
              "      <td>130000</td>\n",
              "      <td>120000</td>\n",
              "      <td>East</td>\n",
              "      <td>New York</td>\n",
              "      <td>New York City</td>\n",
              "      <td>Petrol</td>\n",
              "      <td>Individual</td>\n",
              "      <td>Manual</td>\n",
              "      <td>First_Owner</td>\n",
              "      <td>16.10</td>\n",
              "      <td>1298</td>\n",
              "      <td>88.20</td>\n",
              "      <td>11.5@ 4,500(kgm@ rpm)</td>\n",
              "      <td>5</td>\n",
              "      <td>Y</td>\n",
              "      <td>74400.0</td>\n",
              "      <td>1690.0</td>\n",
              "    </tr>\n",
              "  </tbody>\n",
              "</table>\n",
              "</div>\n",
              "      <button class=\"colab-df-convert\" onclick=\"convertToInteractive('df-022e2393-ca0b-4839-87fb-cbfb81024ae4')\"\n",
              "              title=\"Convert this dataframe to an interactive table.\"\n",
              "              style=\"display:none;\">\n",
              "        \n",
              "  <svg xmlns=\"http://www.w3.org/2000/svg\" height=\"24px\"viewBox=\"0 0 24 24\"\n",
              "       width=\"24px\">\n",
              "    <path d=\"M0 0h24v24H0V0z\" fill=\"none\"/>\n",
              "    <path d=\"M18.56 5.44l.94 2.06.94-2.06 2.06-.94-2.06-.94-.94-2.06-.94 2.06-2.06.94zm-11 1L8.5 8.5l.94-2.06 2.06-.94-2.06-.94L8.5 2.5l-.94 2.06-2.06.94zm10 10l.94 2.06.94-2.06 2.06-.94-2.06-.94-.94-2.06-.94 2.06-2.06.94z\"/><path d=\"M17.41 7.96l-1.37-1.37c-.4-.4-.92-.59-1.43-.59-.52 0-1.04.2-1.43.59L10.3 9.45l-7.72 7.72c-.78.78-.78 2.05 0 2.83L4 21.41c.39.39.9.59 1.41.59.51 0 1.02-.2 1.41-.59l7.78-7.78 2.81-2.81c.8-.78.8-2.07 0-2.86zM5.41 20L4 18.59l7.72-7.72 1.47 1.35L5.41 20z\"/>\n",
              "  </svg>\n",
              "      </button>\n",
              "      \n",
              "  <style>\n",
              "    .colab-df-container {\n",
              "      display:flex;\n",
              "      flex-wrap:wrap;\n",
              "      gap: 12px;\n",
              "    }\n",
              "\n",
              "    .colab-df-convert {\n",
              "      background-color: #E8F0FE;\n",
              "      border: none;\n",
              "      border-radius: 50%;\n",
              "      cursor: pointer;\n",
              "      display: none;\n",
              "      fill: #1967D2;\n",
              "      height: 32px;\n",
              "      padding: 0 0 0 0;\n",
              "      width: 32px;\n",
              "    }\n",
              "\n",
              "    .colab-df-convert:hover {\n",
              "      background-color: #E2EBFA;\n",
              "      box-shadow: 0px 1px 2px rgba(60, 64, 67, 0.3), 0px 1px 3px 1px rgba(60, 64, 67, 0.15);\n",
              "      fill: #174EA6;\n",
              "    }\n",
              "\n",
              "    [theme=dark] .colab-df-convert {\n",
              "      background-color: #3B4455;\n",
              "      fill: #D2E3FC;\n",
              "    }\n",
              "\n",
              "    [theme=dark] .colab-df-convert:hover {\n",
              "      background-color: #434B5C;\n",
              "      box-shadow: 0px 1px 3px 1px rgba(0, 0, 0, 0.15);\n",
              "      filter: drop-shadow(0px 1px 2px rgba(0, 0, 0, 0.3));\n",
              "      fill: #FFFFFF;\n",
              "    }\n",
              "  </style>\n",
              "\n",
              "      <script>\n",
              "        const buttonEl =\n",
              "          document.querySelector('#df-022e2393-ca0b-4839-87fb-cbfb81024ae4 button.colab-df-convert');\n",
              "        buttonEl.style.display =\n",
              "          google.colab.kernel.accessAllowed ? 'block' : 'none';\n",
              "\n",
              "        async function convertToInteractive(key) {\n",
              "          const element = document.querySelector('#df-022e2393-ca0b-4839-87fb-cbfb81024ae4');\n",
              "          const dataTable =\n",
              "            await google.colab.kernel.invokeFunction('convertToInteractive',\n",
              "                                                     [key], {});\n",
              "          if (!dataTable) return;\n",
              "\n",
              "          const docLinkHtml = 'Like what you see? Visit the ' +\n",
              "            '<a target=\"_blank\" href=https://colab.research.google.com/notebooks/data_table.ipynb>data table notebook</a>'\n",
              "            + ' to learn more about interactive tables.';\n",
              "          element.innerHTML = '';\n",
              "          dataTable['output_type'] = 'display_data';\n",
              "          await google.colab.output.renderOutput(dataTable, element);\n",
              "          const docLink = document.createElement('div');\n",
              "          docLink.innerHTML = docLinkHtml;\n",
              "          element.appendChild(docLink);\n",
              "        }\n",
              "      </script>\n",
              "    </div>\n",
              "  </div>\n",
              "  "
            ]
          },
          "metadata": {},
          "execution_count": 8
        }
      ]
    },
    {
      "cell_type": "markdown",
      "source": [
        "##Observations"
      ],
      "metadata": {
        "id": "NkD5R86x1cEp"
      }
    },
    {
      "cell_type": "code",
      "source": [
        "#Descriptive statistics of the dataset\n",
        "Car_df.describe()"
      ],
      "metadata": {
        "colab": {
          "base_uri": "https://localhost:8080/",
          "height": 300
        },
        "id": "i6UupFp63Iet",
        "outputId": "200571f5-bba8-4f4a-e5f8-50e9b1d0a183"
      },
      "execution_count": null,
      "outputs": [
        {
          "output_type": "execute_result",
          "data": {
            "text/plain": [
              "          Sales_ID         year  selling_price     km_driven      mileage  \\\n",
              "count  7906.000000  7906.000000   7.906000e+03  7.906000e+03  7906.000000   \n",
              "mean   4070.106248  2013.983936   6.498137e+05  6.918866e+04    19.419861   \n",
              "std    2345.770159     3.863695   8.135827e+05  5.679230e+04     4.036263   \n",
              "min       1.000000  1994.000000   2.999900e+04  1.000000e+00     0.000000   \n",
              "25%    2037.250000  2012.000000   2.700000e+05  3.500000e+04    16.780000   \n",
              "50%    4076.500000  2015.000000   4.500000e+05  6.000000e+04    19.300000   \n",
              "75%    6102.000000  2017.000000   6.900000e+05  9.542500e+04    22.320000   \n",
              "max    8128.000000  2020.000000   1.000000e+07  2.360457e+06    42.000000   \n",
              "\n",
              "            engine    max_power        seats  miles_driven          Price  \n",
              "count  7906.000000  7906.000000  7906.000000  7.906000e+03    7906.000000  \n",
              "mean   1458.708829    91.587374     5.416393  4.289697e+04    8447.578371  \n",
              "std     503.893057    35.747216     0.959208  3.521122e+04   10576.575729  \n",
              "min     624.000000    32.800000     2.000000  6.200000e-01     389.987000  \n",
              "25%    1197.000000    68.050000     5.000000  2.170000e+04    3510.000000  \n",
              "50%    1248.000000    82.000000     5.000000  3.720000e+04    5850.000000  \n",
              "75%    1582.000000   102.000000     5.000000  5.916350e+04    8970.000000  \n",
              "max    3604.000000   400.000000    14.000000  1.463483e+06  130000.000000  "
            ],
            "text/html": [
              "\n",
              "  <div id=\"df-95838ef2-bc49-4384-af7b-45c161c8ced4\">\n",
              "    <div class=\"colab-df-container\">\n",
              "      <div>\n",
              "<style scoped>\n",
              "    .dataframe tbody tr th:only-of-type {\n",
              "        vertical-align: middle;\n",
              "    }\n",
              "\n",
              "    .dataframe tbody tr th {\n",
              "        vertical-align: top;\n",
              "    }\n",
              "\n",
              "    .dataframe thead th {\n",
              "        text-align: right;\n",
              "    }\n",
              "</style>\n",
              "<table border=\"1\" class=\"dataframe\">\n",
              "  <thead>\n",
              "    <tr style=\"text-align: right;\">\n",
              "      <th></th>\n",
              "      <th>Sales_ID</th>\n",
              "      <th>year</th>\n",
              "      <th>selling_price</th>\n",
              "      <th>km_driven</th>\n",
              "      <th>mileage</th>\n",
              "      <th>engine</th>\n",
              "      <th>max_power</th>\n",
              "      <th>seats</th>\n",
              "      <th>miles_driven</th>\n",
              "      <th>Price</th>\n",
              "    </tr>\n",
              "  </thead>\n",
              "  <tbody>\n",
              "    <tr>\n",
              "      <th>count</th>\n",
              "      <td>7906.000000</td>\n",
              "      <td>7906.000000</td>\n",
              "      <td>7.906000e+03</td>\n",
              "      <td>7.906000e+03</td>\n",
              "      <td>7906.000000</td>\n",
              "      <td>7906.000000</td>\n",
              "      <td>7906.000000</td>\n",
              "      <td>7906.000000</td>\n",
              "      <td>7.906000e+03</td>\n",
              "      <td>7906.000000</td>\n",
              "    </tr>\n",
              "    <tr>\n",
              "      <th>mean</th>\n",
              "      <td>4070.106248</td>\n",
              "      <td>2013.983936</td>\n",
              "      <td>6.498137e+05</td>\n",
              "      <td>6.918866e+04</td>\n",
              "      <td>19.419861</td>\n",
              "      <td>1458.708829</td>\n",
              "      <td>91.587374</td>\n",
              "      <td>5.416393</td>\n",
              "      <td>4.289697e+04</td>\n",
              "      <td>8447.578371</td>\n",
              "    </tr>\n",
              "    <tr>\n",
              "      <th>std</th>\n",
              "      <td>2345.770159</td>\n",
              "      <td>3.863695</td>\n",
              "      <td>8.135827e+05</td>\n",
              "      <td>5.679230e+04</td>\n",
              "      <td>4.036263</td>\n",
              "      <td>503.893057</td>\n",
              "      <td>35.747216</td>\n",
              "      <td>0.959208</td>\n",
              "      <td>3.521122e+04</td>\n",
              "      <td>10576.575729</td>\n",
              "    </tr>\n",
              "    <tr>\n",
              "      <th>min</th>\n",
              "      <td>1.000000</td>\n",
              "      <td>1994.000000</td>\n",
              "      <td>2.999900e+04</td>\n",
              "      <td>1.000000e+00</td>\n",
              "      <td>0.000000</td>\n",
              "      <td>624.000000</td>\n",
              "      <td>32.800000</td>\n",
              "      <td>2.000000</td>\n",
              "      <td>6.200000e-01</td>\n",
              "      <td>389.987000</td>\n",
              "    </tr>\n",
              "    <tr>\n",
              "      <th>25%</th>\n",
              "      <td>2037.250000</td>\n",
              "      <td>2012.000000</td>\n",
              "      <td>2.700000e+05</td>\n",
              "      <td>3.500000e+04</td>\n",
              "      <td>16.780000</td>\n",
              "      <td>1197.000000</td>\n",
              "      <td>68.050000</td>\n",
              "      <td>5.000000</td>\n",
              "      <td>2.170000e+04</td>\n",
              "      <td>3510.000000</td>\n",
              "    </tr>\n",
              "    <tr>\n",
              "      <th>50%</th>\n",
              "      <td>4076.500000</td>\n",
              "      <td>2015.000000</td>\n",
              "      <td>4.500000e+05</td>\n",
              "      <td>6.000000e+04</td>\n",
              "      <td>19.300000</td>\n",
              "      <td>1248.000000</td>\n",
              "      <td>82.000000</td>\n",
              "      <td>5.000000</td>\n",
              "      <td>3.720000e+04</td>\n",
              "      <td>5850.000000</td>\n",
              "    </tr>\n",
              "    <tr>\n",
              "      <th>75%</th>\n",
              "      <td>6102.000000</td>\n",
              "      <td>2017.000000</td>\n",
              "      <td>6.900000e+05</td>\n",
              "      <td>9.542500e+04</td>\n",
              "      <td>22.320000</td>\n",
              "      <td>1582.000000</td>\n",
              "      <td>102.000000</td>\n",
              "      <td>5.000000</td>\n",
              "      <td>5.916350e+04</td>\n",
              "      <td>8970.000000</td>\n",
              "    </tr>\n",
              "    <tr>\n",
              "      <th>max</th>\n",
              "      <td>8128.000000</td>\n",
              "      <td>2020.000000</td>\n",
              "      <td>1.000000e+07</td>\n",
              "      <td>2.360457e+06</td>\n",
              "      <td>42.000000</td>\n",
              "      <td>3604.000000</td>\n",
              "      <td>400.000000</td>\n",
              "      <td>14.000000</td>\n",
              "      <td>1.463483e+06</td>\n",
              "      <td>130000.000000</td>\n",
              "    </tr>\n",
              "  </tbody>\n",
              "</table>\n",
              "</div>\n",
              "      <button class=\"colab-df-convert\" onclick=\"convertToInteractive('df-95838ef2-bc49-4384-af7b-45c161c8ced4')\"\n",
              "              title=\"Convert this dataframe to an interactive table.\"\n",
              "              style=\"display:none;\">\n",
              "        \n",
              "  <svg xmlns=\"http://www.w3.org/2000/svg\" height=\"24px\"viewBox=\"0 0 24 24\"\n",
              "       width=\"24px\">\n",
              "    <path d=\"M0 0h24v24H0V0z\" fill=\"none\"/>\n",
              "    <path d=\"M18.56 5.44l.94 2.06.94-2.06 2.06-.94-2.06-.94-.94-2.06-.94 2.06-2.06.94zm-11 1L8.5 8.5l.94-2.06 2.06-.94-2.06-.94L8.5 2.5l-.94 2.06-2.06.94zm10 10l.94 2.06.94-2.06 2.06-.94-2.06-.94-.94-2.06-.94 2.06-2.06.94z\"/><path d=\"M17.41 7.96l-1.37-1.37c-.4-.4-.92-.59-1.43-.59-.52 0-1.04.2-1.43.59L10.3 9.45l-7.72 7.72c-.78.78-.78 2.05 0 2.83L4 21.41c.39.39.9.59 1.41.59.51 0 1.02-.2 1.41-.59l7.78-7.78 2.81-2.81c.8-.78.8-2.07 0-2.86zM5.41 20L4 18.59l7.72-7.72 1.47 1.35L5.41 20z\"/>\n",
              "  </svg>\n",
              "      </button>\n",
              "      \n",
              "  <style>\n",
              "    .colab-df-container {\n",
              "      display:flex;\n",
              "      flex-wrap:wrap;\n",
              "      gap: 12px;\n",
              "    }\n",
              "\n",
              "    .colab-df-convert {\n",
              "      background-color: #E8F0FE;\n",
              "      border: none;\n",
              "      border-radius: 50%;\n",
              "      cursor: pointer;\n",
              "      display: none;\n",
              "      fill: #1967D2;\n",
              "      height: 32px;\n",
              "      padding: 0 0 0 0;\n",
              "      width: 32px;\n",
              "    }\n",
              "\n",
              "    .colab-df-convert:hover {\n",
              "      background-color: #E2EBFA;\n",
              "      box-shadow: 0px 1px 2px rgba(60, 64, 67, 0.3), 0px 1px 3px 1px rgba(60, 64, 67, 0.15);\n",
              "      fill: #174EA6;\n",
              "    }\n",
              "\n",
              "    [theme=dark] .colab-df-convert {\n",
              "      background-color: #3B4455;\n",
              "      fill: #D2E3FC;\n",
              "    }\n",
              "\n",
              "    [theme=dark] .colab-df-convert:hover {\n",
              "      background-color: #434B5C;\n",
              "      box-shadow: 0px 1px 3px 1px rgba(0, 0, 0, 0.15);\n",
              "      filter: drop-shadow(0px 1px 2px rgba(0, 0, 0, 0.3));\n",
              "      fill: #FFFFFF;\n",
              "    }\n",
              "  </style>\n",
              "\n",
              "      <script>\n",
              "        const buttonEl =\n",
              "          document.querySelector('#df-95838ef2-bc49-4384-af7b-45c161c8ced4 button.colab-df-convert');\n",
              "        buttonEl.style.display =\n",
              "          google.colab.kernel.accessAllowed ? 'block' : 'none';\n",
              "\n",
              "        async function convertToInteractive(key) {\n",
              "          const element = document.querySelector('#df-95838ef2-bc49-4384-af7b-45c161c8ced4');\n",
              "          const dataTable =\n",
              "            await google.colab.kernel.invokeFunction('convertToInteractive',\n",
              "                                                     [key], {});\n",
              "          if (!dataTable) return;\n",
              "\n",
              "          const docLinkHtml = 'Like what you see? Visit the ' +\n",
              "            '<a target=\"_blank\" href=https://colab.research.google.com/notebooks/data_table.ipynb>data table notebook</a>'\n",
              "            + ' to learn more about interactive tables.';\n",
              "          element.innerHTML = '';\n",
              "          dataTable['output_type'] = 'display_data';\n",
              "          await google.colab.output.renderOutput(dataTable, element);\n",
              "          const docLink = document.createElement('div');\n",
              "          docLink.innerHTML = docLinkHtml;\n",
              "          element.appendChild(docLink);\n",
              "        }\n",
              "      </script>\n",
              "    </div>\n",
              "  </div>\n",
              "  "
            ]
          },
          "metadata": {},
          "execution_count": 9
        }
      ]
    },
    {
      "cell_type": "code",
      "source": [
        "#Number of values for each seller\n",
        "Car_df['seller_type'].value_counts()"
      ],
      "metadata": {
        "colab": {
          "base_uri": "https://localhost:8080/"
        },
        "id": "04oRml_F1fW3",
        "outputId": "ef4cdb74-3e14-42af-da9c-64615c09095b"
      },
      "execution_count": null,
      "outputs": [
        {
          "output_type": "execute_result",
          "data": {
            "text/plain": [
              "Individual          6563\n",
              "Dealer              1107\n",
              "Trustmark_Dealer     236\n",
              "Name: seller_type, dtype: int64"
            ]
          },
          "metadata": {},
          "execution_count": 10
        }
      ]
    },
    {
      "cell_type": "code",
      "source": [
        "ax = sns.histplot(Car_df['seller_type'])"
      ],
      "metadata": {
        "colab": {
          "base_uri": "https://localhost:8080/",
          "height": 286
        },
        "id": "O1YelIrj1xkU",
        "outputId": "4f64dfef-0487-4976-ac58-0e195ca18da9"
      },
      "execution_count": null,
      "outputs": [
        {
          "output_type": "display_data",
          "data": {
            "text/plain": [
              "<Figure size 432x288 with 1 Axes>"
            ],
            "image/png": "[encoded data removed]"
          },
          "metadata": {}
        }
      ]
    },
    {
      "cell_type": "markdown",
      "source": [
        "There is an imbalance in the data with 6,563 individual compared to only 1,107 dealers"
      ],
      "metadata": {
        "id": "dBVOPRnk6Qrd"
      }
    },
    {
      "cell_type": "markdown",
      "source": [
        "##Hypothesis"
      ],
      "metadata": {
        "id": "2mEIoMljFnKl"
      }
    },
    {
      "cell_type": "markdown",
      "source": [
        "1. There is a correlation between the year a car was made and the miles driven \n",
        "\n",
        "2. The type of seller significantly impacts the selling price of a vehicle "
      ],
      "metadata": {
        "id": "-EnkTeifFsA-"
      }
    },
    {
      "cell_type": "markdown",
      "source": [
        "###Hypothesis 1"
      ],
      "metadata": {
        "id": "_Gpbd1lDG6Se"
      }
    },
    {
      "cell_type": "markdown",
      "source": [
        "To either support or reject hypothesis 1, a scatterplot showcasing the correlation will be used as well as calculating the Pearson correlation coefficent. The coefficent is a valuse between 1 and -1. A 1 represents a strong positive relationship, a -1 is a strong negative relationship, and a 0 is no relationship.  "
      ],
      "metadata": {
        "id": "CE39ZmHdHmRn"
      }
    },
    {
      "cell_type": "code",
      "source": [
        "#Calculating the Pearson correlation coefficent \n",
        "stats.pearsonr(Car_df['year'], Car_df['miles_driven'])\n"
      ],
      "metadata": {
        "colab": {
          "base_uri": "https://localhost:8080/"
        },
        "id": "gkTgAPB78WaU",
        "outputId": "232cba4e-6cc6-40c2-e44e-3bb5003af654"
      },
      "execution_count": null,
      "outputs": [
        {
          "output_type": "execute_result",
          "data": {
            "text/plain": [
              "(-0.4285484826194228, 0.0)"
            ]
          },
          "metadata": {},
          "execution_count": 12
        }
      ]
    },
    {
      "cell_type": "markdown",
      "source": [
        "The correlation coeffiecent between the year and miles driven on a vehicle is -0.43 with a p-value of < 0.05, meaning that the correlation between the two variables is significant. "
      ],
      "metadata": {
        "id": "ZpoRGtEZO2hl"
      }
    },
    {
      "cell_type": "code",
      "source": [
        "#Visualization of Correlation\n",
        "plt.figure(figsize = (11,5))\n",
        "sns.scatterplot(y='miles_driven', x='year', size='Price', data=Car_df)\n",
        "plt.xticks([1994, 2007, 2020])\n",
        "plt.xlabel('Year')\n",
        "plt.ylim(0,250000)\n",
        "plt.ylabel('Miles')\n",
        "plt.title('Correlation Between Year and Miles Driven')\n",
        "plt.show()"
      ],
      "metadata": {
        "colab": {
          "base_uri": "https://localhost:8080/",
          "height": 355
        },
        "id": "dpOHH9ibKDlk",
        "outputId": "99ca59c9-9dd1-41c3-ca4e-c7ba7c91b6d9"
      },
      "execution_count": null,
      "outputs": [
        {
          "output_type": "display_data",
          "data": {
            "text/plain": [
              "<Figure size 792x360 with 1 Axes>"
            ],
            "image/png": "[encoded data removed]"
          },
          "metadata": {}
        }
      ]
    },
    {
      "cell_type": "markdown",
      "source": [
        "While the scatterplot shows a relatively moderate correlation, the correlation coefficent and p-value point towards a stronger correlation between miles driven and year made. **Hypothesis Supported**"
      ],
      "metadata": {
        "id": "J6KjK9e8Kotl"
      }
    },
    {
      "cell_type": "code",
      "source": [
        ""
      ],
      "metadata": {
        "id": "HbbWKhtfg17m"
      },
      "execution_count": null,
      "outputs": []
    },
    {
      "cell_type": "markdown",
      "source": [
        "##Hypothesis 2"
      ],
      "metadata": {
        "id": "-wSBXBXHNISf"
      }
    },
    {
      "cell_type": "markdown",
      "source": [
        "For hypothesis 2, an independent samples t - test will be run to determine if there is or isnt a significant difference between sellers relative to sale price.\n",
        "\n",
        "Null and Alternative Hypothesis:\n",
        "\n",
        "**H₀: µ₁ = µ₂**(There IS NOT a significant difference in price between sellers and\n",
        "dealers)\n",
        "\n",
        "**Hₐ: µ₁ ≠ µ₂**(There IS a significant difference in price between sellers and dealers)"
      ],
      "metadata": {
        "id": "0KcMNyOcN-Z2"
      }
    },
    {
      "cell_type": "code",
      "source": [
        "#Mean Prices For Sellers\n",
        "Car_df.groupby('seller_type').mean()['Price']"
      ],
      "metadata": {
        "colab": {
          "base_uri": "https://localhost:8080/"
        },
        "id": "quyFMlyLiLjX",
        "outputId": "a0107ddc-2dd1-43dc-e6fb-060b2c3803c0"
      },
      "execution_count": null,
      "outputs": [
        {
          "output_type": "execute_result",
          "data": {
            "text/plain": [
              "seller_type\n",
              "Dealer              18978.825150\n",
              "Individual           6600.175706\n",
              "Trustmark_Dealer    10423.906780\n",
              "Name: Price, dtype: float64"
            ]
          },
          "metadata": {},
          "execution_count": 34
        }
      ]
    },
    {
      "cell_type": "code",
      "source": [
        "#Visualization of Mean Price\n",
        "sns.barplot(data=Car_df, x='seller_type', y='Price')"
      ],
      "metadata": {
        "colab": {
          "base_uri": "https://localhost:8080/",
          "height": 304
        },
        "id": "n0QZ73VboDlH",
        "outputId": "faa4181e-f126-45f0-8306-a804c8373b94"
      },
      "execution_count": null,
      "outputs": [
        {
          "output_type": "execute_result",
          "data": {
            "text/plain": [
              "<matplotlib.axes._subplots.AxesSubplot at 0x7fc116c31f10>"
            ]
          },
          "metadata": {},
          "execution_count": 33
        },
        {
          "output_type": "display_data",
          "data": {
            "text/plain": [
              "<Figure size 432x288 with 1 Axes>"
            ],
            "image/png": "[encoded data removed]"
          },
          "metadata": {}
        }
      ]
    },
    {
      "cell_type": "code",
      "source": [
        "#Visualizing Price Distribution\n",
        "sns.histplot(Car_df['Price'], bins=50)"
      ],
      "metadata": {
        "colab": {
          "base_uri": "https://localhost:8080/",
          "height": 303
        },
        "id": "7l1giyNkz1Um",
        "outputId": "1cea3583-ff88-482a-83c6-331780d9ed53"
      },
      "execution_count": null,
      "outputs": [
        {
          "output_type": "execute_result",
          "data": {
            "text/plain": [
              "<matplotlib.axes._subplots.AxesSubplot at 0x7fc117126ad0>"
            ]
          },
          "metadata": {},
          "execution_count": 30
        },
        {
          "output_type": "display_data",
          "data": {
            "text/plain": [
              "<Figure size 432x288 with 1 Axes>"
            ],
            "image/png": "[encoded data removed]"
          },
          "metadata": {}
        }
      ]
    },
    {
      "cell_type": "markdown",
      "source": [
        "The majority of vehicles seem to be between 0 and 20,000 USD according to the histogram."
      ],
      "metadata": {
        "id": "vXrSmKrPnSA-"
      }
    },
    {
      "cell_type": "code",
      "source": [
        "#Creating test groups\n",
        "Seller_in = Car_df[(Car_df['seller_type'] == 'Individual').values]\n",
        "Seller_in.info()"
      ],
      "metadata": {
        "id": "idIjkbuJTNKg",
        "colab": {
          "base_uri": "https://localhost:8080/"
        },
        "outputId": "a907d0b7-db85-46cb-f244-f950470c51e3"
      },
      "execution_count": null,
      "outputs": [
        {
          "output_type": "stream",
          "name": "stdout",
          "text": [
            "<class 'pandas.core.frame.DataFrame'>\n",
            "Int64Index: 6563 entries, 0 to 7905\n",
            "Data columns (total 20 columns):\n",
            " #   Column             Non-Null Count  Dtype  \n",
            "---  ------             --------------  -----  \n",
            " 0   Sales_ID           6563 non-null   int64  \n",
            " 1   name               6563 non-null   object \n",
            " 2   year               6563 non-null   int64  \n",
            " 3   selling_price      6563 non-null   int64  \n",
            " 4   km_driven          6563 non-null   int64  \n",
            " 5   Region             6563 non-null   object \n",
            " 6   State or Province  6563 non-null   object \n",
            " 7   City               6563 non-null   object \n",
            " 8   fuel               6563 non-null   object \n",
            " 9   seller_type        6563 non-null   object \n",
            " 10  transmission       6563 non-null   object \n",
            " 11  owner              6563 non-null   object \n",
            " 12  mileage            6563 non-null   float64\n",
            " 13  engine             6563 non-null   int64  \n",
            " 14  max_power          6563 non-null   float64\n",
            " 15  torque             6563 non-null   object \n",
            " 16  seats              6563 non-null   int64  \n",
            " 17  sold               6563 non-null   object \n",
            " 18  miles_driven       6563 non-null   float64\n",
            " 19  Price              6563 non-null   float64\n",
            "dtypes: float64(4), int64(6), object(10)\n",
            "memory usage: 1.1+ MB\n"
          ]
        }
      ]
    },
    {
      "cell_type": "code",
      "source": [
        "Seller_dl = Car_df[(Car_df['seller_type'] == 'Dealer').values]\n",
        "Seller_dl.info()"
      ],
      "metadata": {
        "colab": {
          "base_uri": "https://localhost:8080/"
        },
        "id": "R3ZbtnNUSiDR",
        "outputId": "90af4cf6-c4be-4445-826a-16d8ff768ad9"
      },
      "execution_count": null,
      "outputs": [
        {
          "output_type": "stream",
          "name": "stdout",
          "text": [
            "<class 'pandas.core.frame.DataFrame'>\n",
            "Int64Index: 1107 entries, 40 to 7844\n",
            "Data columns (total 20 columns):\n",
            " #   Column             Non-Null Count  Dtype  \n",
            "---  ------             --------------  -----  \n",
            " 0   Sales_ID           1107 non-null   int64  \n",
            " 1   name               1107 non-null   object \n",
            " 2   year               1107 non-null   int64  \n",
            " 3   selling_price      1107 non-null   int64  \n",
            " 4   km_driven          1107 non-null   int64  \n",
            " 5   Region             1107 non-null   object \n",
            " 6   State or Province  1107 non-null   object \n",
            " 7   City               1107 non-null   object \n",
            " 8   fuel               1107 non-null   object \n",
            " 9   seller_type        1107 non-null   object \n",
            " 10  transmission       1107 non-null   object \n",
            " 11  owner              1107 non-null   object \n",
            " 12  mileage            1107 non-null   float64\n",
            " 13  engine             1107 non-null   int64  \n",
            " 14  max_power          1107 non-null   float64\n",
            " 15  torque             1107 non-null   object \n",
            " 16  seats              1107 non-null   int64  \n",
            " 17  sold               1107 non-null   object \n",
            " 18  miles_driven       1107 non-null   float64\n",
            " 19  Price              1107 non-null   float64\n",
            "dtypes: float64(4), int64(6), object(10)\n",
            "memory usage: 181.6+ KB\n"
          ]
        }
      ]
    },
    {
      "cell_type": "code",
      "source": [
        "#Running ttest\n",
        "stats.ttest_ind(Seller_in['Price'], Seller_dl['Price'])"
      ],
      "metadata": {
        "colab": {
          "base_uri": "https://localhost:8080/"
        },
        "id": "CU5RiA2xTkuT",
        "outputId": "8bd2fee1-cabb-433f-fa63-0b151734c7d0"
      },
      "execution_count": null,
      "outputs": [
        {
          "output_type": "execute_result",
          "data": {
            "text/plain": [
              "Ttest_indResult(statistic=-39.101605127724035, pvalue=4.0955302815811377e-305)"
            ]
          },
          "metadata": {},
          "execution_count": 18
        }
      ]
    },
    {
      "cell_type": "code",
      "source": [
        "#Calculating confidence interval\n",
        "def get_95_ci(array_1, array_2):\n",
        "    sample_1_n = array_1.shape[0]\n",
        "    sample_2_n = array_2.shape[0]\n",
        "    sample_1_mean = array_1.mean()\n",
        "    sample_2_mean = array_2.mean()\n",
        "    sample_1_var = array_1.var()\n",
        "    sample_2_var = array_2.var()\n",
        "    mean_difference = sample_2_mean - sample_1_mean\n",
        "    std_err_difference = math.sqrt((sample_1_var/sample_1_n)+(sample_2_var/sample_2_n))\n",
        "    margin_of_error = 1.96 * std_err_difference\n",
        "    ci_lower = mean_difference - margin_of_error\n",
        "    ci_upper = mean_difference + margin_of_error\n",
        "    return(\"The difference in means at the 95% confidence interval (two-tail) is between \"+str(ci_lower)+\" and \"+str(ci_upper)+\".\")\n",
        "\n",
        "get_95_ci(Seller_in['Price'],Seller_dl['Price'])\n"
      ],
      "metadata": {
        "colab": {
          "base_uri": "https://localhost:8080/",
          "height": 35
        },
        "id": "cgLYd2CdUvij",
        "outputId": "2aac3db6-ab7a-4da1-f7ce-69b028ea637b"
      },
      "execution_count": null,
      "outputs": [
        {
          "output_type": "execute_result",
          "data": {
            "text/plain": [
              "'The difference in means at the 95% confidence interval (two-tail) is between 11161.544146638631 and 13595.754740807219.'"
            ],
            "application/vnd.google.colaboratory.intrinsic+json": {
              "type": "string"
            }
          },
          "metadata": {},
          "execution_count": 19
        }
      ]
    },
    {
      "cell_type": "markdown",
      "source": [
        "The smaller the p-value, the greater the statistical significance of the observed difference. The p value for the observed difference of the t-test is very small at 4.09 e-305 with a 95% level of confidence, indicating a significant difference. Therefore there is sufficent evidence to reject the null hypothesis. "
      ],
      "metadata": {
        "id": "l76wpbXrb3U4"
      }
    },
    {
      "cell_type": "markdown",
      "source": [
        "##Recomendations"
      ],
      "metadata": {
        "id": "fVDdBDqdZq97"
      }
    },
    {
      "cell_type": "markdown",
      "source": [
        "My recomendations after analyzing the data would be that when shopping used vehicles, buy from an individual seller. The mean selling price for an individual is 6,600 USD compared to the mean price for a dealer at 18,978 USD. Also the miles driven on a vehicle and the year it was made should be taken into consideration as well. The size of the circles on the scatterplot represent the price of the vehicle. The bigger the circle, the higher the price of the vehicle. The larger sized circles can be seen towards the right of the scatterplot where the newest vehicles with the least amount of miles are. "
      ],
      "metadata": {
        "id": "WB3odKCLaGsi"
      }
    },
    {
      "cell_type": "code",
      "source": [
        ""
      ],
      "metadata": {
        "id": "HBRKtZMlZjNI"
      },
      "execution_count": null,
      "outputs": []
    }
  ]
}